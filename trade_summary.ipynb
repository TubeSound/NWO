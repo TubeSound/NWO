{
 "cells": [
  {
   "cell_type": "code",
   "execution_count": 3,
   "id": "63106e6c",
   "metadata": {},
   "outputs": [
    {
     "name": "stdout",
     "output_type": "stream",
     "text": [
      "Connected to MT5 Version (500, 5120, '13 Jun 2025')\n"
     ]
    }
   ],
   "source": [
    "from random import random\n",
    "import os\n",
    "import numpy as np\n",
    "import pandas as pd\n",
    "from bokeh.plotting import figure\n",
    "from bokeh.plotting import show\n",
    "from bokeh.plotting import output_notebook\n",
    "from mt5_api import Mt5Api\n",
    "from datetime import datetime\n",
    "from dateutil import tz\n",
    "JST = tz.gettz('Asia/Tokyo')\n",
    "UTC = tz.gettz('utc')  \n",
    "\n",
    "\n",
    "\n",
    "#output_notebook()\n",
    "\n",
    "leverledge = 1000\n",
    "red_line = -100    \n",
    "\n",
    "def main():\n",
    "    mt5api = Mt5Api()\n",
    "    tfrom = datetime(2025, 4, 1).astimezone(JST)\n",
    "    tto = datetime(2025, 6, 22).astimezone(JST)\n",
    "    df = mt5api.deal_history(tfrom, tto)\n",
    "    os.makedirs('./debug', exist_ok=True)\n",
    "    df.to_csv('./debug/history.csv', index=False)\n",
    "\n",
    "    \n",
    "if __name__ == \"__main__\":\n",
    "    main()"
   ]
  },
  {
   "cell_type": "code",
   "execution_count": null,
   "id": "2c18a106-8dad-445f-8bd2-206928a2f988",
   "metadata": {},
   "outputs": [],
   "source": []
  },
  {
   "cell_type": "code",
   "execution_count": null,
   "id": "aae42920-b64d-450d-84ea-8471feccefc3",
   "metadata": {},
   "outputs": [],
   "source": []
  },
  {
   "cell_type": "code",
   "execution_count": null,
   "id": "e5e405b6-4d90-4608-89a9-a7c67acf91dc",
   "metadata": {},
   "outputs": [],
   "source": []
  },
  {
   "cell_type": "code",
   "execution_count": null,
   "id": "fd4764ef-89a6-4983-b0f0-cdcfd6b3ad61",
   "metadata": {},
   "outputs": [],
   "source": []
  }
 ],
 "metadata": {
  "kernelspec": {
   "display_name": ".venv",
   "language": "python",
   "name": "python3"
  },
  "language_info": {
   "codemirror_mode": {
    "name": "ipython",
    "version": 3
   },
   "file_extension": ".py",
   "mimetype": "text/x-python",
   "name": "python",
   "nbconvert_exporter": "python",
   "pygments_lexer": "ipython3",
   "version": "3.12.9"
  }
 },
 "nbformat": 4,
 "nbformat_minor": 5
}
